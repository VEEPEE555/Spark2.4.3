{
 "cells": [
  {
   "cell_type": "code",
   "execution_count": null,
   "metadata": {},
   "outputs": [],
   "source": [
    "#Exercise 02 - Get details of inactive customers\n",
    "#Get the customers who have not placed any orders, sorted by customer_lname and then customer_fname\n",
    "from pyspark.sql import SparkSession\n",
    "from pyspark import *\n",
    "\n",
    "spark = SparkSession \\\n",
    ".builder \\\n",
    ".master(\"local\") \\\n",
    ".appName(\"sparkexercise2\") \\\n",
    ".getOrCreate()\n",
    "\n",
    "customersDF = spark \\\n",
    ".read \\\n",
    ".format(\"csv\") \\\n",
    ".option(\"header\",\"false\") \\\n",
    ".load(\"/home/veepee555/Downloads/data-master/retail_db/customers\")\n"
   ]
  },
  {
   "cell_type": "code",
   "execution_count": null,
   "metadata": {},
   "outputs": [],
   "source": [
    "ordersDF = spark \\\n",
    ".read \\\n",
    ".format(\"csv\") \\\n",
    ".option(\"header\",\"false\") \\\n",
    ".load(\"/home/veepee555/Downloads/data-master/retail_db/orders\")\n"
   ]
  },
  {
   "cell_type": "code",
   "execution_count": 17,
   "metadata": {},
   "outputs": [
    {
     "name": "stdout",
     "output_type": "stream",
     "text": [
      "+---+-----------+---------+---------+---------+--------------------+-------------+---+-----+\n",
      "|_c0|        _c1|      _c2|      _c3|      _c4|                 _c5|          _c6|_c7|  _c8|\n",
      "+---+-----------+---------+---------+---------+--------------------+-------------+---+-----+\n",
      "|  1|    Richard|Hernandez|XXXXXXXXX|XXXXXXXXX|  6303 Heather Plaza|  Brownsville| TX|78521|\n",
      "|  2|       Mary|  Barrett|XXXXXXXXX|XXXXXXXXX|9526 Noble Embers...|    Littleton| CO|80126|\n",
      "|  3|        Ann|    Smith|XXXXXXXXX|XXXXXXXXX|3422 Blue Pioneer...|       Caguas| PR|00725|\n",
      "|  4|       Mary|    Jones|XXXXXXXXX|XXXXXXXXX|  8324 Little Common|   San Marcos| CA|92069|\n",
      "|  5|     Robert|   Hudson|XXXXXXXXX|XXXXXXXXX|10 Crystal River ...|       Caguas| PR|00725|\n",
      "|  6|       Mary|    Smith|XXXXXXXXX|XXXXXXXXX|3151 Sleepy Quail...|      Passaic| NJ|07055|\n",
      "|  7|    Melissa|   Wilcox|XXXXXXXXX|XXXXXXXXX|9453 High Concession|       Caguas| PR|00725|\n",
      "|  8|      Megan|    Smith|XXXXXXXXX|XXXXXXXXX|3047 Foggy Forest...|     Lawrence| MA|01841|\n",
      "|  9|       Mary|    Perez|XXXXXXXXX|XXXXXXXXX| 3616 Quaking Street|       Caguas| PR|00725|\n",
      "| 10|    Melissa|    Smith|XXXXXXXXX|XXXXXXXXX|8598 Harvest Beac...|     Stafford| VA|22554|\n",
      "| 11|       Mary|  Huffman|XXXXXXXXX|XXXXXXXXX|    3169 Stony Woods|       Caguas| PR|00725|\n",
      "| 12|Christopher|    Smith|XXXXXXXXX|XXXXXXXXX|5594 Jagged Ember...|  San Antonio| TX|78227|\n",
      "| 13|       Mary|  Baldwin|XXXXXXXXX|XXXXXXXXX|7922 Iron Oak Gar...|       Caguas| PR|00725|\n",
      "| 14|  Katherine|    Smith|XXXXXXXXX|XXXXXXXXX|5666 Hazy Pony Sq...|  Pico Rivera| CA|90660|\n",
      "| 15|       Jane|     Luna|XXXXXXXXX|XXXXXXXXX|    673 Burning Glen|      Fontana| CA|92336|\n",
      "| 16|    Tiffany|    Smith|XXXXXXXXX|XXXXXXXXX|      6651 Iron Port|       Caguas| PR|00725|\n",
      "| 17|       Mary| Robinson|XXXXXXXXX|XXXXXXXXX|     1325 Noble Pike|       Taylor| MI|48180|\n",
      "| 18|     Robert|    Smith|XXXXXXXXX|XXXXXXXXX|2734 Hazy Butterf...|     Martinez| CA|94553|\n",
      "| 19|  Stephanie| Mitchell|XXXXXXXXX|XXXXXXXXX|3543 Red Treasure...|       Caguas| PR|00725|\n",
      "| 20|       Mary|    Ellis|XXXXXXXXX|XXXXXXXXX|      4703 Old Route|West New York| NJ|07093|\n",
      "+---+-----------+---------+---------+---------+--------------------+-------------+---+-----+\n",
      "only showing top 20 rows\n",
      "\n",
      "+---+--------------------+-----+---------------+\n",
      "|_c0|                 _c1|  _c2|            _c3|\n",
      "+---+--------------------+-----+---------------+\n",
      "|  1|2013-07-25 00:00:...|11599|         CLOSED|\n",
      "|  2|2013-07-25 00:00:...|  256|PENDING_PAYMENT|\n",
      "|  3|2013-07-25 00:00:...|12111|       COMPLETE|\n",
      "|  4|2013-07-25 00:00:...| 8827|         CLOSED|\n",
      "|  5|2013-07-25 00:00:...|11318|       COMPLETE|\n",
      "|  6|2013-07-25 00:00:...| 7130|       COMPLETE|\n",
      "|  7|2013-07-25 00:00:...| 4530|       COMPLETE|\n",
      "|  8|2013-07-25 00:00:...| 2911|     PROCESSING|\n",
      "|  9|2013-07-25 00:00:...| 5657|PENDING_PAYMENT|\n",
      "| 10|2013-07-25 00:00:...| 5648|PENDING_PAYMENT|\n",
      "| 11|2013-07-25 00:00:...|  918| PAYMENT_REVIEW|\n",
      "| 12|2013-07-25 00:00:...| 1837|         CLOSED|\n",
      "| 13|2013-07-25 00:00:...| 9149|PENDING_PAYMENT|\n",
      "| 14|2013-07-25 00:00:...| 9842|     PROCESSING|\n",
      "| 15|2013-07-25 00:00:...| 2568|       COMPLETE|\n",
      "| 16|2013-07-25 00:00:...| 7276|PENDING_PAYMENT|\n",
      "| 17|2013-07-25 00:00:...| 2667|       COMPLETE|\n",
      "| 18|2013-07-25 00:00:...| 1205|         CLOSED|\n",
      "| 19|2013-07-25 00:00:...| 9488|PENDING_PAYMENT|\n",
      "| 20|2013-07-25 00:00:...| 9198|     PROCESSING|\n",
      "+---+--------------------+-----+---------------+\n",
      "only showing top 20 rows\n",
      "\n"
     ]
    }
   ],
   "source": [
    "customersDF.show()\n",
    "ordersDF.show()"
   ]
  },
  {
   "cell_type": "code",
   "execution_count": 30,
   "metadata": {},
   "outputs": [],
   "source": [
    "customersDF.createOrReplaceTempView(\"cust_temp\")\n",
    "custDF=spark.sql(\"select _c0 as cust_id, _c1 as firstname,_c2 as lastname from  cust_temp\")"
   ]
  },
  {
   "cell_type": "code",
   "execution_count": 40,
   "metadata": {},
   "outputs": [],
   "source": [
    "custDF.createOrReplaceTempView('CUST')"
   ]
  },
  {
   "cell_type": "code",
   "execution_count": 38,
   "metadata": {},
   "outputs": [
    {
     "name": "stdout",
     "output_type": "stream",
     "text": [
      "root\n",
      " |-- cust_id: string (nullable = true)\n",
      "\n"
     ]
    }
   ],
   "source": [
    "ordersDF.createOrReplaceTempView(\"orders_temp\")\n",
    "ordDF=spark.sql(\"select * from  orders_temp\")\n",
    "ordDF.printSchema()"
   ]
  },
  {
   "cell_type": "code",
   "execution_count": 39,
   "metadata": {},
   "outputs": [],
   "source": [
    "ordDF.createOrReplaceTempView(\"ORD\")"
   ]
  },
  {
   "cell_type": "code",
   "execution_count": 43,
   "metadata": {},
   "outputs": [
    {
     "name": "stdout",
     "output_type": "stream",
     "text": [
      "+-------+---------+--------+\n",
      "|cust_id|firstname|lastname|\n",
      "+-------+---------+--------+\n",
      "|    219|     Mary| Harrell|\n",
      "|    339|     Mary|  Greene|\n",
      "|    469|    Randy|   Smith|\n",
      "|   1187|  Dorothy| Vazquez|\n",
      "|   1481|    Grace|   Smith|\n",
      "|   1808|   Albert| Ellison|\n",
      "|   2073|    Donna|Stephens|\n",
      "|   2096|     Jose|  Tanner|\n",
      "|   2450|    James|   Smith|\n",
      "|   4555|     Mary|   Smith|\n",
      "|   4927|  Carolyn|   Green|\n",
      "|   6072|  Stephen|   Smith|\n",
      "|   6613|   Ashley|   Smith|\n",
      "|   7011|    Kevin|   Smith|\n",
      "|   7552|     Carl|   Smith|\n",
      "|   8243|     Gary|  Walker|\n",
      "|   8343|     Mary|  Bolton|\n",
      "|   8575|     Mary| Mueller|\n",
      "|   8778|     Mary|   Smith|\n",
      "|   8882|  Kenneth|   Smith|\n",
      "+-------+---------+--------+\n",
      "only showing top 20 rows\n",
      "\n"
     ]
    }
   ],
   "source": [
    "spark.sql(\"select cust_id, firstname, lastname  \\\n",
    "from CUST  where  CUST.cust_id NOT IN  \\\n",
    "(SELECT ORD.cust_id FROM ORD)\").show()"
   ]
  },
  {
   "cell_type": "code",
   "execution_count": null,
   "metadata": {},
   "outputs": [],
   "source": []
  }
 ],
 "metadata": {
  "kernelspec": {
   "display_name": "Python 3",
   "language": "python",
   "name": "python3"
  },
  "language_info": {
   "codemirror_mode": {
    "name": "ipython",
    "version": 3
   },
   "file_extension": ".py",
   "mimetype": "text/x-python",
   "name": "python",
   "nbconvert_exporter": "python",
   "pygments_lexer": "ipython3",
   "version": "3.7.3"
  }
 },
 "nbformat": 4,
 "nbformat_minor": 2
}
